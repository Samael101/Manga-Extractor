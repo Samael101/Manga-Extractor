{
 "cells": [
  {
   "cell_type": "code",
   "execution_count": 1,
   "metadata": {},
   "outputs": [],
   "source": [
    "import selenium.webdriver as webdriver\n",
    "from selenium.webdriver.firefox.options import Options\n",
    "import time\n",
    "import requests\n",
    "from bs4 import BeautifulSoup"
   ]
  },
  {
   "cell_type": "code",
   "execution_count": null,
   "metadata": {},
   "outputs": [],
   "source": [
    "options = Options()\n",
    "options.headless = True\n",
    "\n",
    "driver = webdriver.Firefox(options=options, executable_path=r\"C:\\Users\\Samael101\\.vscode\\Python2021\\Pandas\\geckodriver.exe\")\n",
    "\n",
    "url = \"https://mangafast.net\"\n",
    "driver.get(url)\n",
    "print(\"Headless Firefox Initialized\")"
   ]
  },
  {
   "cell_type": "code",
   "execution_count": 3,
   "metadata": {},
   "outputs": [],
   "source": [
    "search_box = driver.find_element_by_xpath(\"/html/body/div[1]/div/form/input[1]\")\n",
    "search_box.click()"
   ]
  },
  {
   "cell_type": "code",
   "execution_count": 4,
   "metadata": {},
   "outputs": [],
   "source": [
    "\n",
    "search_manga = driver.find_element_by_xpath('//*[@id=\"search\"]')\n",
    "search_manga.send_keys(\"\")\n",
    "time.sleep(0.1)\n"
   ]
  },
  {
   "cell_type": "code",
   "execution_count": 5,
   "metadata": {},
   "outputs": [],
   "source": [
    "search_manga = driver.find_element_by_xpath('//*[@id=\"search\"]')\n",
    "manga_user_input = input(\"Please enter manga title to download: \\n\")\n",
    "search_manga.send_keys(manga_user_input)\n",
    "time.sleep(0.1)"
   ]
  },
  {
   "cell_type": "code",
   "execution_count": 6,
   "metadata": {},
   "outputs": [],
   "source": [
    "button_search = driver.find_element_by_xpath(\"/html/body/div[5]/div[2]/div[2]/a\")\n",
    "button_search.click()"
   ]
  },
  {
   "cell_type": "code",
   "execution_count": 7,
   "metadata": {},
   "outputs": [
    {
     "data": {
      "text/plain": [
       "'https://mangafast.net/search'"
      ]
     },
     "execution_count": 7,
     "metadata": {},
     "output_type": "execute_result"
    }
   ],
   "source": [
    "manga_titles_url = driver.current_url\n",
    "manga_titles_url"
   ]
  },
  {
   "cell_type": "code",
   "execution_count": 8,
   "metadata": {},
   "outputs": [],
   "source": [
    "html_ver = driver.execute_script(\"return document.documentElement.outerHTML\")\n",
    "sel_soup = BeautifulSoup(html_ver, \"lxml\")\n",
    "\n",
    "table = sel_soup.find_all(\"div\", class_ = \"ls5\")\n",
    "\n",
    "search_result = []\n",
    "for i in table:\n",
    "    result_dict = {}\n",
    "    result_dict[\"title\"] = i.a[\"title\"]\n",
    "    result_dict[\"link\"] = url + i.a[\"href\"]\n",
    "    search_result.append(result_dict)\n",
    "search_result\n",
    "driver.quit()"
   ]
  },
  {
   "cell_type": "code",
   "execution_count": 9,
   "metadata": {},
   "outputs": [
    {
     "name": "stdout",
     "output_type": "stream",
     "text": [
      "0 : bleach\n",
      "1 : bleach fan art\n",
      "2 : bleach - after iris (doujinshi)\n",
      "3 : bleach - adabana (doujinshi)\n",
      "4 : bleach - bittersweet (doujinshi)\n",
      "5 : bleach dj--under the rose\n",
      "6 : bleach - brother (doujinshi)\n",
      "7 : bleach dj - honey tattoo\n",
      "8 : bleach - tarameku kokugen, kare no heya (doujinshi)\n",
      "9 : bleach dj - koishoushou\n",
      "10 : bleach - iris (doujinshi)\n",
      "11 : bleach - holiday (doujinshi)\n",
      "12 : bleach - goodnight, baby (doujinshi)\n",
      "13 : bleach - dormer errant (doujinshi)\n",
      "14 : bleach dj - jounetsu neppuu serenade\n",
      "15 : bleach - hello, mrgh\n",
      "16 : bleach - dare mo shiranai (doujinshi)\n",
      "17 : bleach - dolls (doujinshi)\n",
      "18 : stay gold - koi no lesson a to z\n",
      "19 : karasu ni diamond\n",
      "20 : yatteraneeze!\n",
      "21 : beach stars\n",
      "22 : doki doki summer beach\n",
      "23 : the!! beach stars\n",
      "24 : kiiroi kaigan\n",
      "25 : sorairo kaigan\n",
      "26 : umibe no onnanoko\n",
      "27 : namiuchigiwa no muromi-san\n",
      "28 : smile!\n",
      "29 : summer saver\n",
      "\n"
     ]
    }
   ],
   "source": [
    "for i,choice in enumerate(search_result):\n",
    "    print(f'{i} : {choice[\"title\"]}')\n",
    "print()\n",
    "# user = int(input(\"please choose manga from list: \\n \"))\n",
    "# if user in range(len(search_result)):\n",
    "#     print(f'{search_result[user][\"title\"]} : {search_result[user][\"link\"]}')\n",
    "# print(\"done\")"
   ]
  },
  {
   "cell_type": "code",
   "execution_count": null,
   "metadata": {},
   "outputs": [],
   "source": [
    "user_input = int(input(\"please choose manga from list: \\n \"))\n",
    "\n",
    "# for i in range(len(search_result)):\n",
    "#     if i == user_input:\n",
    "#         print(i, search_result[i][\"title\"])\n",
    "if user_input in range(len(search_result)):\n",
    "    print(f'{search_result[user_input][\"title\"]} : {search_result[user_input][\"link\"]}')\n",
    "    # return search_result[user_input][\"link\"]"
   ]
  }
 ],
 "metadata": {
  "interpreter": {
   "hash": "d3f1854d93c37d1e1b2dc854aabcdaa7a94cb60a8c5df215a9fe1458a225d5ab"
  },
  "kernelspec": {
   "display_name": "Python 3.8.6rc1 64-bit",
   "name": "python3"
  },
  "language_info": {
   "codemirror_mode": {
    "name": "ipython",
    "version": 3
   },
   "file_extension": ".py",
   "mimetype": "text/x-python",
   "name": "python",
   "nbconvert_exporter": "python",
   "pygments_lexer": "ipython3",
   "version": "3.10.2"
  },
  "orig_nbformat": 4
 },
 "nbformat": 4,
 "nbformat_minor": 2
}
